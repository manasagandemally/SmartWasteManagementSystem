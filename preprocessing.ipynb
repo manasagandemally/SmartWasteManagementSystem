{
 "cells": [
  {
   "cell_type": "code",
   "execution_count": 1,
   "id": "5156a8f8-72f0-4b51-9083-a67838c076b2",
   "metadata": {},
   "outputs": [],
   "source": [
    "import os\n",
    "from pathlib import Path\n",
    "from PIL import Image\n",
    "import matplotlib.pyplot as plt\n",
    "\n",
    "# Set the dataset\n",
    "path = Path(\"garbage-classification-6-classes-775class\")"
   ]
  },
  {
   "cell_type": "code",
   "execution_count": 2,
   "id": "6d21dbbb-0e21-4b53-a3cd-b3c25bbc1765",
   "metadata": {},
   "outputs": [
    {
     "name": "stdout",
     "output_type": "stream",
     "text": [
      "Classes (subfolders): ['battery', 'glass', 'metal', 'organic', 'paper', 'plastic']\n"
     ]
    }
   ],
   "source": [
    "#listing classes of dataset\n",
    "import os\n",
    "classes=os.listdir(path)\n",
    "print(\"Classes (subfolders):\", os.listdir(path))"
   ]
  },
  {
   "cell_type": "code",
   "execution_count": 3,
   "id": "e8eb2c67-b411-448d-8638-7c9fcffa3d61",
   "metadata": {},
   "outputs": [
    {
     "name": "stdout",
     "output_type": "stream",
     "text": [
      "battery: 775 images\n",
      "glass: 775 images\n",
      "metal: 775 images\n",
      "organic: 775 images\n",
      "paper: 775 images\n",
      "plastic: 775 images\n"
     ]
    }
   ],
   "source": [
    "#number of images per class\n",
    "for cls in classes:\n",
    "    count = len(os.listdir(os.path.join(path, cls)))\n",
    "    print(f\"{cls}: {count} images\")"
   ]
  },
  {
   "cell_type": "code",
   "execution_count": 4,
   "id": "41327c4d-dd48-443e-a3bd-5dc8160fd406",
   "metadata": {},
   "outputs": [
    {
     "name": "stdout",
     "output_type": "stream",
     "text": [
      "\n",
      "Sample files from 'battery':\n",
      "['battery1.jpg', 'battery10.jpg', 'battery100.jpg', 'battery101.jpg', 'battery102.jpg']\n",
      "\n",
      "Sample files from 'glass':\n",
      "['glass1.jpg', 'glass10.jpg', 'glass100.jpg', 'glass101.jpg', 'glass102.jpg']\n",
      "\n",
      "Sample files from 'metal':\n",
      "['metal1.jpg', 'metal10.jpg', 'metal100.jpg', 'metal101.jpg', 'metal102.jpg']\n",
      "\n",
      "Sample files from 'organic':\n",
      "['biological1.jpg', 'biological10.jpg', 'biological100.jpg', 'biological101.jpg', 'biological102.jpg']\n",
      "\n",
      "Sample files from 'paper':\n",
      "['paper1.jpg', 'paper10.jpg', 'paper100.jpg', 'paper101.jpg', 'paper102.jpg']\n",
      "\n",
      "Sample files from 'plastic':\n",
      "['plastic1.jpg', 'plastic10.jpg', 'plastic100.jpg', 'plastic101.jpg', 'plastic102.jpg']\n"
     ]
    }
   ],
   "source": [
    "#printing sample image names in each class\n",
    "for cls in classes[:6]: \n",
    "    print(f\"\\nSample files from '{cls}':\")\n",
    "    print(os.listdir(os.path.join(path, cls))[:5])\n"
   ]
  },
  {
   "cell_type": "code",
   "execution_count": 5,
   "id": "07fc550f-b9ac-4f00-8e0b-fb1ebdfaccaf",
   "metadata": {},
   "outputs": [
    {
     "name": "stdout",
     "output_type": "stream",
     "text": [
      "battery: Sample image size = (280, 180)\n",
      "glass: Sample image size = (285, 177)\n",
      "metal: Sample image size = (512, 384)\n",
      "organic: Sample image size = (236, 214)\n",
      "paper: Sample image size = (512, 384)\n",
      "plastic: Sample image size = (512, 384)\n"
     ]
    }
   ],
   "source": [
    "from PIL import Image\n",
    "import os\n",
    "\n",
    "for class_name in classes:\n",
    "    class_path = os.path.join(path, class_name)\n",
    "    image_files = [f for f in os.listdir(class_path) if f.lower().endswith(('.jpg', '.jpeg', '.png'))]\n",
    "\n",
    "    if image_files:\n",
    "        img_path = os.path.join(class_path, image_files[0])\n",
    "        with Image.open(img_path) as img:\n",
    "            print(f\"{class_name}: Sample image size = {img.size}\")\n"
   ]
  },
  {
   "cell_type": "code",
   "execution_count": 6,
   "id": "4b5f1161-b7ab-4852-87cd-25f5162dd372",
   "metadata": {},
   "outputs": [
    {
     "name": "stdout",
     "output_type": "stream",
     "text": [
      "\n",
      "Total images checked: 4650\n",
      "Corrupt or unreadable images: 0\n",
      "No corrupt or missing image files found.\n"
     ]
    }
   ],
   "source": [
    "#checking if any corrupt or unreadable images are present across all the classes\n",
    "from PIL import Image, UnidentifiedImageError\n",
    "\n",
    "total_images = 0\n",
    "corrupt_images = []\n",
    "\n",
    "for cls in classes:\n",
    "    class_path = os.path.join(path, cls)\n",
    "    for filename in os.listdir(class_path):\n",
    "        total_images += 1\n",
    "        file_path = os.path.join(class_path, filename)\n",
    "        try:\n",
    "            with Image.open(file_path) as img:\n",
    "                img.verify()  # Check if image is readable\n",
    "        except (UnidentifiedImageError, IOError, OSError):\n",
    "            corrupt_images.append(file_path)\n",
    "\n",
    "print(f\"\\nTotal images checked: {total_images}\")\n",
    "print(f\"Corrupt or unreadable images: {len(corrupt_images)}\")\n",
    "\n",
    "if corrupt_images:\n",
    "    print(\"Examples of corrupt images:\")\n",
    "    print(corrupt_images[:5])\n",
    "else:\n",
    "    print(\"No corrupt or missing image files found.\")\n"
   ]
  },
  {
   "cell_type": "code",
   "execution_count": 7,
   "id": "9abd449d-c217-40dd-927b-f3024729a012",
   "metadata": {},
   "outputs": [],
   "source": [
    "import os\n",
    "from PIL import Image\n",
    "\n",
    "inp, out = \"garbage-classification-6-classes-775class\", \"180\"\n",
    "for root, _, files in os.walk(inp):\n",
    "    for f in files:\n",
    "        if f.lower().endswith(('jpg','jpeg','png')):\n",
    "            img = Image.open(os.path.join(root,f)).convert(\"RGB\").resize((180,180))\n",
    "            path = os.path.join(out, os.path.relpath(root, inp))\n",
    "            os.makedirs(path, exist_ok=True)\n",
    "            img.save(os.path.join(path,f))\n"
   ]
  },
  {
   "cell_type": "code",
   "execution_count": 8,
   "id": "33d2f635-8568-4fff-84d7-2b070ac38b52",
   "metadata": {},
   "outputs": [],
   "source": [
    "import os\n",
    "from PIL import Image\n",
    "\n",
    "inp, out = \"garbage-classification-6-classes-775class\", \"180_240\"\n",
    "for root, _, files in os.walk(inp):\n",
    "    for f in files:\n",
    "        if f.lower().endswith(('jpg','jpeg','png')):\n",
    "            img = Image.open(os.path.join(root,f)).convert(\"RGB\").resize((180,240))\n",
    "            path = os.path.join(out, os.path.relpath(root, inp))\n",
    "            os.makedirs(path, exist_ok=True)\n",
    "            img.save(os.path.join(path,f))\n"
   ]
  },
  {
   "cell_type": "code",
   "execution_count": 9,
   "id": "0f20145e-72ae-4bbb-9397-eb9bd16fd6f7",
   "metadata": {},
   "outputs": [],
   "source": [
    "import os\n",
    "from PIL import Image\n",
    "\n",
    "inp, out = \"garbage-classification-6-classes-775class\", \"240\"\n",
    "for root, _, files in os.walk(inp):\n",
    "    for f in files:\n",
    "        if f.lower().endswith(('jpg','jpeg','png')):\n",
    "            img = Image.open(os.path.join(root,f)).convert(\"RGB\").resize((240,240))\n",
    "            path = os.path.join(out, os.path.relpath(root, inp))\n",
    "            os.makedirs(path, exist_ok=True)\n",
    "            img.save(os.path.join(path,f))\n"
   ]
  },
  {
   "cell_type": "markdown",
   "id": "e41fcfae-d98a-412c-a291-45ea9f64bcec",
   "metadata": {},
   "source": [
    "REMOVING NOISE AND SHARPENING TO GET CLEAR IMAGES "
   ]
  },
  {
   "cell_type": "code",
   "execution_count": 10,
   "id": "6305528f-168e-4dbd-9e00-7d55944c007a",
   "metadata": {},
   "outputs": [
    {
     "name": "stdout",
     "output_type": "stream",
     "text": [
      "Images needing sharpening: 3372\n",
      "Sample (path, Laplacian variance, noise std):\n",
      "('180\\\\battery\\\\battery1.jpg', np.float64(2782.6017871932636), array([[52.23167754]]))\n",
      "('180\\\\battery\\\\battery10.jpg', np.float64(2714.8811417609745), array([[82.95641478]]))\n",
      "('180\\\\battery\\\\battery100.jpg', np.float64(3609.0465080932786), array([[54.48993637]]))\n",
      "('180\\\\battery\\\\battery101.jpg', np.float64(1976.7722471412512), array([[54.84393361]]))\n",
      "('180\\\\battery\\\\battery102.jpg', np.float64(603.4087654320988), array([[61.8621533]]))\n",
      "('180\\\\battery\\\\battery103.jpg', np.float64(2238.971140671201), array([[73.1895068]]))\n",
      "('180\\\\battery\\\\battery104.jpg', np.float64(4280.087612138966), array([[68.62434711]]))\n",
      "('180\\\\battery\\\\battery105.jpg', np.float64(1929.6409816491387), array([[87.2343758]]))\n",
      "('180\\\\battery\\\\battery106.jpg', np.float64(2552.8253241417083), array([[69.42657299]]))\n",
      "('180\\\\battery\\\\battery107.jpg', np.float64(3064.2860800325793), array([[99.27825427]]))\n"
     ]
    }
   ],
   "source": [
    "import os\n",
    "import cv2\n",
    "\n",
    "input_folder = \"180\"\n",
    "blur_threshold = 100.0  # Adjustable: lower values => blurrier\n",
    "\n",
    "images_to_sharpen = []\n",
    "\n",
    "for cls in os.listdir(input_folder):\n",
    "    class_folder = os.path.join(input_folder, cls)\n",
    "    for filename in os.listdir(class_folder):\n",
    "        if filename.lower().endswith(('.jpg', '.jpeg', '.png')):\n",
    "            img_path = os.path.join(class_folder, filename)\n",
    "            img = cv2.imread(img_path, cv2.IMREAD_GRAYSCALE)\n",
    "            if img is None:\n",
    "                continue\n",
    "            # Blur detection using Laplacian variance\n",
    "            lap_var = cv2.Laplacian(img, cv2.CV_64F).var()\n",
    "            # Noise estimation using local standard deviation \n",
    "            noise = cv2.meanStdDev(img)[1]\n",
    "            # Add images with low sharpness or high noise\n",
    "            if lap_var < blur_threshold or noise > 40: \n",
    "                images_to_sharpen.append((img_path, lap_var, noise))\n",
    "\n",
    "print(f\"Images needing sharpening: {len(images_to_sharpen)}\")\n",
    "print(\"Sample (path, Laplacian variance, noise std):\")\n",
    "for item in images_to_sharpen[:10]:\n",
    "    print(item)\n"
   ]
  },
  {
   "cell_type": "code",
   "execution_count": 11,
   "id": "14889a9d-78ce-4a4d-93af-bb9c4ed9ac0f",
   "metadata": {},
   "outputs": [],
   "source": [
    "import cv2\n",
    "import numpy as np\n",
    "\n",
    "# images_to_sharpen is list of (img_path, sharpness, noise)\n",
    "for img_path, lap_var, noise in images_to_sharpen:\n",
    "    img = cv2.imread(img_path)\n",
    "    if img is None:\n",
    "        continue\n",
    "    # Sharpen using kernel\n",
    "    kernel = np.array([[0, -1, 0],\n",
    "                       [-1, 5, -1],\n",
    "                       [0, -1, 0]], np.float32)\n",
    "    sharpened = cv2.filter2D(img, -1, kernel)\n",
    "    cv2.imwrite(img_path, sharpened)  # Overwrites original\n"
   ]
  },
  {
   "cell_type": "code",
   "execution_count": 12,
   "id": "c72642b3-1554-4b3a-8017-1c1f130aa824",
   "metadata": {},
   "outputs": [
    {
     "name": "stdout",
     "output_type": "stream",
     "text": [
      "Images needing sharpening: 3420\n",
      "Sample (path, Laplacian variance, noise std):\n",
      "('180_240\\\\battery\\\\battery1.jpg', np.float64(1347.7084151615013), array([[51.67560315]]))\n",
      "('180_240\\\\battery\\\\battery10.jpg', np.float64(1819.0780090449243), array([[82.97455175]]))\n",
      "('180_240\\\\battery\\\\battery100.jpg', np.float64(2563.960155341221), array([[54.56804265]]))\n",
      "('180_240\\\\battery\\\\battery101.jpg', np.float64(1330.7422619834533), array([[54.82029483]]))\n",
      "('180_240\\\\battery\\\\battery102.jpg', np.float64(544.9568518518519), array([[61.92790656]]))\n",
      "('180_240\\\\battery\\\\battery103.jpg', np.float64(1737.1857166018306), array([[73.19009086]]))\n",
      "('180_240\\\\battery\\\\battery104.jpg', np.float64(3452.548028891782), array([[68.77324186]]))\n",
      "('180_240\\\\battery\\\\battery105.jpg', np.float64(1785.51599998071), array([[87.26819117]]))\n",
      "('180_240\\\\battery\\\\battery106.jpg', np.float64(2561.098946115719), array([[69.85137146]]))\n",
      "('180_240\\\\battery\\\\battery107.jpg', np.float64(2678.598240740741), array([[99.50670402]]))\n"
     ]
    }
   ],
   "source": [
    "import os\n",
    "import cv2\n",
    "\n",
    "input_folder = \"180_240\"\n",
    "blur_threshold = 100.0  \n",
    "\n",
    "images_to_sharpen_2 = []\n",
    "\n",
    "for cls in os.listdir(input_folder):\n",
    "    class_folder = os.path.join(input_folder, cls)\n",
    "    for filename in os.listdir(class_folder):\n",
    "        if filename.lower().endswith(('.jpg', '.jpeg', '.png')):\n",
    "            img_path = os.path.join(class_folder, filename)\n",
    "            img = cv2.imread(img_path, cv2.IMREAD_GRAYSCALE)\n",
    "            if img is None:\n",
    "                continue\n",
    "            # Blur detection using Laplacian variance\n",
    "            lap_var = cv2.Laplacian(img, cv2.CV_64F).var()\n",
    "            # Noise estimation using local standard deviation \n",
    "            noise = cv2.meanStdDev(img)[1]\n",
    "            # Add images with low sharpness or high noise\n",
    "            if lap_var < blur_threshold or noise > 40:  \n",
    "                images_to_sharpen_2.append((img_path, lap_var, noise))\n",
    "\n",
    "print(f\"Images needing sharpening: {len(images_to_sharpen_2)}\")\n",
    "print(\"Sample (path, Laplacian variance, noise std):\")\n",
    "for item in images_to_sharpen_2[:10]:\n",
    "    print(item)\n"
   ]
  },
  {
   "cell_type": "code",
   "execution_count": 14,
   "id": "4b810823-0496-4875-b88c-abd2137afcd6",
   "metadata": {},
   "outputs": [],
   "source": [
    "import cv2\n",
    "import numpy as np\n",
    "\n",
    "# images_to_sharpen is list of (img_path, sharpness, noise)\n",
    "for img_path, lap_var, noise in images_to_sharpen_2:\n",
    "    img = cv2.imread(img_path)\n",
    "    if img is None:\n",
    "        continue\n",
    "    # Sharpen using kernel\n",
    "    kernel = np.array([[0, -1, 0],\n",
    "                       [-1, 5, -1],\n",
    "                       [0, -1, 0]], np.float32)\n",
    "    sharpened_2 = cv2.filter2D(img, -1, kernel)\n",
    "    cv2.imwrite(img_path, sharpened_2)  # Overwrites original; \n"
   ]
  },
  {
   "cell_type": "code",
   "execution_count": 17,
   "id": "b632f450-7d1a-49d4-b366-ce1a6d74964b",
   "metadata": {},
   "outputs": [
    {
     "name": "stdout",
     "output_type": "stream",
     "text": [
      "Images needing sharpening: 3127\n",
      "Sample (path, Laplacian variance, noise std):\n",
      "('240\\\\battery\\\\battery1.jpg', np.float64(12283.124003847175), array([[62.61201561]]))\n",
      "('240\\\\battery\\\\battery10.jpg', np.float64(14437.189914887153), array([[89.5264954]]))\n",
      "('240\\\\battery\\\\battery100.jpg', np.float64(32849.52552689887), array([[73.71578853]]))\n",
      "('240\\\\battery\\\\battery101.jpg', np.float64(12021.215621870177), array([[62.40818436]]))\n",
      "('240\\\\battery\\\\battery102.jpg', np.float64(3752.4603819444446), array([[64.33212223]]))\n",
      "('240\\\\battery\\\\battery103.jpg', np.float64(9174.856684020244), array([[80.52539843]]))\n",
      "('240\\\\battery\\\\battery104.jpg', np.float64(32434.232752237654), array([[83.08665625]]))\n",
      "('240\\\\battery\\\\battery105.jpg', np.float64(7090.823432406202), array([[91.83200555]]))\n",
      "('240\\\\battery\\\\battery106.jpg', np.float64(14343.698429194395), array([[75.67789687]]))\n",
      "('240\\\\battery\\\\battery107.jpg', np.float64(16378.340919979444), array([[104.46836398]]))\n"
     ]
    }
   ],
   "source": [
    "import os\n",
    "import cv2\n",
    "\n",
    "input_folder = \"240\"\n",
    "blur_threshold = 100.0  \n",
    "\n",
    "images_to_sharpen_3 = []\n",
    "\n",
    "for cls in os.listdir(input_folder):\n",
    "    class_folder = os.path.join(input_folder, cls)\n",
    "    for filename in os.listdir(class_folder):\n",
    "        if filename.lower().endswith(('.jpg', '.jpeg', '.png')):\n",
    "            img_path = os.path.join(class_folder, filename)\n",
    "            img = cv2.imread(img_path, cv2.IMREAD_GRAYSCALE)\n",
    "            if img is None:\n",
    "                continue\n",
    "            # Blur detection using Laplacian variance\n",
    "            lap_var = cv2.Laplacian(img, cv2.CV_64F).var()\n",
    "            # Noise estimation using local standard deviation \n",
    "            noise = cv2.meanStdDev(img)[1]\n",
    "            # Add images with low sharpness or high noise\n",
    "            if lap_var < blur_threshold or noise > 40:  # noise threshold = 40\n",
    "                images_to_sharpen_3.append((img_path, lap_var, noise))\n",
    "\n",
    "print(f\"Images needing sharpening: {len(images_to_sharpen_3)}\")\n",
    "print(\"Sample (path, Laplacian variance, noise std):\")\n",
    "for item in images_to_sharpen_3[:10]:\n",
    "    print(item)\n"
   ]
  },
  {
   "cell_type": "code",
   "execution_count": 16,
   "id": "c1d9f8bc-f71f-4ab6-9880-d1dd1d0b93df",
   "metadata": {},
   "outputs": [],
   "source": [
    "import cv2\n",
    "import numpy as np\n",
    "\n",
    "for img_path, lap_var, noise in images_to_sharpen_3:\n",
    "    img = cv2.imread(img_path)\n",
    "    if img is None:\n",
    "        continue\n",
    "    # Sharpen using kernel\n",
    "    kernel = np.array([[0, -1, 0],\n",
    "                       [-1, 5, -1],\n",
    "                       [0, -1, 0]], np.float32)\n",
    "    sharpened_3= cv2.filter2D(img, -1, kernel)\n",
    "    cv2.imwrite(img_path, sharpened_3)  # Overwrites original;\n"
   ]
  },
  {
   "cell_type": "markdown",
   "id": "4b4fbd25-4c4c-43ef-9a67-2cb66e3e216a",
   "metadata": {},
   "source": [
    "LABELLING THE CLASSES IN THE DATASET"
   ]
  },
  {
   "cell_type": "code",
   "execution_count": 10,
   "id": "ede13146-fa72-4070-aff4-b64b87241e7e",
   "metadata": {},
   "outputs": [
    {
     "name": "stdout",
     "output_type": "stream",
     "text": [
      "{'battery': 0, 'glass': 1, 'metal': 2, 'organic': 3, 'paper': 4, 'plastic': 5}\n"
     ]
    }
   ],
   "source": [
    "import os\n",
    "\n",
    "data_dir = \"180\"  \n",
    "class_names = sorted(os.listdir(data_dir))\n",
    "class_to_label = {name: idx for idx, name in enumerate(class_names)}\n",
    "print(class_to_label)\n"
   ]
  },
  {
   "cell_type": "code",
   "execution_count": 11,
   "id": "b91e5447-b229-4f87-81e1-8ef6ca34dcb1",
   "metadata": {},
   "outputs": [
    {
     "name": "stdout",
     "output_type": "stream",
     "text": [
      "{'battery': 0, 'glass': 1, 'metal': 2, 'organic': 3, 'paper': 4, 'plastic': 5}\n"
     ]
    }
   ],
   "source": [
    "import os\n",
    "\n",
    "data_dir = \"180_240\"  \n",
    "class_names = sorted(os.listdir(data_dir))\n",
    "class_to_label = {name: idx for idx, name in enumerate(class_names)}\n",
    "print(class_to_label)\n"
   ]
  },
  {
   "cell_type": "code",
   "execution_count": 12,
   "id": "fcec07eb-0bcd-4b54-af49-ecd6f560ec4f",
   "metadata": {},
   "outputs": [
    {
     "name": "stdout",
     "output_type": "stream",
     "text": [
      "{'battery': 0, 'glass': 1, 'metal': 2, 'organic': 3, 'paper': 4, 'plastic': 5}\n"
     ]
    }
   ],
   "source": [
    "import os\n",
    "\n",
    "data_dir = \"240\"  \n",
    "class_names = sorted(os.listdir(data_dir))\n",
    "class_to_label = {name: idx for idx, name in enumerate(class_names)}\n",
    "print(class_to_label)\n"
   ]
  }
 ],
 "metadata": {
  "kernelspec": {
   "display_name": "Python 3 (ipykernel)",
   "language": "python",
   "name": "python3"
  },
  "language_info": {
   "codemirror_mode": {
    "name": "ipython",
    "version": 3
   },
   "file_extension": ".py",
   "mimetype": "text/x-python",
   "name": "python",
   "nbconvert_exporter": "python",
   "pygments_lexer": "ipython3",
   "version": "3.13.1"
  }
 },
 "nbformat": 4,
 "nbformat_minor": 5
}
