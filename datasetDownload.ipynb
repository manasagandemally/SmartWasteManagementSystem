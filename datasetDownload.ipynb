{
 "cells": [
  {
   "cell_type": "code",
   "execution_count": 1,
   "id": "3d1146ab-fe55-4dda-b672-0b847ebc3451",
   "metadata": {},
   "outputs": [
    {
     "name": "stdout",
     "output_type": "stream",
     "text": [
      "Dataset already exists. Skipping download.\n"
     ]
    }
   ],
   "source": [
    "import os\n",
    "import zipfile\n",
    "from kaggle.api.kaggle_api_extended import KaggleApi\n",
    "\n",
    "os.environ['KAGGLE_CONFIG_DIR'] = os.getcwd()\n",
    "\n",
    "dataset_dir = \"garbage-classification-6-classes-775class\"\n",
    "zip_path = dataset_dir + \".zip\"\n",
    "\n",
    "if not os.path.exists(dataset_dir):\n",
    "    api = KaggleApi()\n",
    "    api.authenticate()\n",
    "\n",
    "    print(\"Downloading dataset...\")\n",
    "    api.dataset_download_files(\n",
    "        'quangtheng/garbage-classification-6-classes-775class', \n",
    "        path='.', unzip=False\n",
    "    )\n",
    "\n",
    "    print(\"Unzipping dataset...\")\n",
    "    with zipfile.ZipFile(zip_path, 'r') as zip_ref:\n",
    "        zip_ref.extractall(dataset_dir)\n",
    "    print(\"Dataset ready.\")\n",
    "else:\n",
    "    print(\"Dataset already exists. Skipping download.\")\n"
   ]
  },
  {
   "cell_type": "code",
   "execution_count": 2,
   "id": "33b4bb1d-a7a3-4ece-bf51-77c790c8a9bd",
   "metadata": {},
   "outputs": [
    {
     "name": "stdout",
     "output_type": "stream",
     "text": [
      "Contents of root directory:\n",
      "- .ipynb_checkpoints\n",
      "- datasetDownload.ipynb\n",
      "- garbage-classification-6-classes-775class\n",
      "- garbage-classification-6-classes-775class.zip\n",
      "- kaggle.json\n",
      "- SmartWasteManagement.ipynb\n"
     ]
    }
   ],
   "source": [
    "import os\n",
    "\n",
    "root_dir = os.getcwd()  \n",
    "print(\"Contents of root directory:\")\n",
    "for item in os.listdir(root_dir):\n",
    "    print(\"-\", item)\n"
   ]
  },
  {
   "cell_type": "code",
   "execution_count": 8,
   "id": "a4383cd8-d9a6-472e-8f4c-c02c6edada90",
   "metadata": {},
   "outputs": [
    {
     "name": "stdout",
     "output_type": "stream",
     "text": [
      "Path to dataset files: C:\\Users\\HP\\.cache\\kagglehub\\datasets\\lakshymehta\\dataset\\versions\\1\n"
     ]
    }
   ],
   "source": [
    "import kagglehub\n",
    "import shutil\n",
    "import os\n",
    "\n",
    "# Download full dataset\n",
    "cleanPath = kagglehub.dataset_download(\"lakshymehta/dataset\")\n",
    "print(\"Path to dataset files:\", cleanPath)\n"
   ]
  },
  {
   "cell_type": "code",
   "execution_count": 9,
   "id": "b0dd9819-3e88-41d6-a823-20a2f194bc89",
   "metadata": {},
   "outputs": [
    {
     "name": "stdout",
     "output_type": "stream",
     "text": [
      "Listing contents of: C:\\Users\\HP\\.cache\\kagglehub\\datasets\\lakshymehta\\dataset\\versions\\1\n",
      "['dataset']\n"
     ]
    }
   ],
   "source": [
    "import os\n",
    "\n",
    "print(\"Listing contents of:\", cleanPath)\n",
    "print(os.listdir(cleanPath))"
   ]
  },
  {
   "cell_type": "code",
   "execution_count": 13,
   "id": "1a94c858-f2b5-48a5-9e1f-cd80ebfd6323",
   "metadata": {},
   "outputs": [
    {
     "name": "stdout",
     "output_type": "stream",
     "text": [
      "Listing contents of: C:\\Users\\HP\\.cache\\kagglehub\\datasets\\lakshymehta\\dataset\\versions\\1\\dataset\n",
      "['clean', 'Garbage']\n"
     ]
    }
   ],
   "source": [
    "import os\n",
    "\n",
    "main_dataset_path = r\"C:\\Users\\HP\\.cache\\kagglehub\\datasets\\lakshymehta\\dataset\\versions\\1\\dataset\"\n",
    "print(\"Listing contents of:\", main_dataset_path)\n",
    "print(os.listdir(main_dataset_path))\n"
   ]
  },
  {
   "cell_type": "code",
   "execution_count": 14,
   "id": "55059936-0827-4df0-9378-572b1cf442ad",
   "metadata": {},
   "outputs": [
    {
     "name": "stdout",
     "output_type": "stream",
     "text": [
      "Only clean images are now in: clean_data_only\n"
     ]
    }
   ],
   "source": [
    "\n",
    "# Path to \"clean\" directory inside downloaded dataset\n",
    "clean_dir = os.path.join(main_dataset_path, \"clean\")\n",
    "\n",
    "# Optionally, copy \"clean\" directory to a destination folder\n",
    "cleanData = \"clean_data_only\"\n",
    "if not os.path.exists(cleanData):\n",
    "    shutil.copytree(clean_dir, cleanData)\n",
    "\n",
    "print(\"Only clean images are now in:\", cleanData)\n"
   ]
  },
  {
   "cell_type": "code",
   "execution_count": 15,
   "id": "3ae9a1b3-4fa4-48ed-abf6-25028d4eaf8b",
   "metadata": {},
   "outputs": [
    {
     "name": "stdout",
     "output_type": "stream",
     "text": [
      "Contents of root directory:\n",
      "- .ipynb_checkpoints\n",
      "- clean_data_only\n",
      "- datasetDownload.ipynb\n",
      "- garbage-classification-6-classes-775class\n",
      "- garbage-classification-6-classes-775class.zip\n",
      "- kaggle.json\n",
      "- SmartWasteManagement.ipynb\n"
     ]
    }
   ],
   "source": [
    "import os\n",
    "\n",
    "root_dir = os.getcwd()  \n",
    "print(\"Contents of root directory:\")\n",
    "for item in os.listdir(root_dir):\n",
    "    print(\"-\", item)\n"
   ]
  }
 ],
 "metadata": {
  "kernelspec": {
   "display_name": "Python 3 (ipykernel)",
   "language": "python",
   "name": "python3"
  },
  "language_info": {
   "codemirror_mode": {
    "name": "ipython",
    "version": 3
   },
   "file_extension": ".py",
   "mimetype": "text/x-python",
   "name": "python",
   "nbconvert_exporter": "python",
   "pygments_lexer": "ipython3",
   "version": "3.13.1"
  }
 },
 "nbformat": 4,
 "nbformat_minor": 5
}
